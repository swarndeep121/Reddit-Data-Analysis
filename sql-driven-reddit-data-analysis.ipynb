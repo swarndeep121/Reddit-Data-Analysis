{
 "cells": [
  {
   "cell_type": "markdown",
   "id": "6b55cd0d",
   "metadata": {
    "papermill": {
     "duration": 0.006197,
     "end_time": "2025-07-20T04:48:04.860236",
     "exception": false,
     "start_time": "2025-07-20T04:48:04.854039",
     "status": "completed"
    },
    "tags": []
   },
   "source": [
    "# SQL-Driven Reddit Data Analysis"
   ]
  },
  {
   "cell_type": "markdown",
   "id": "e173d9b1",
   "metadata": {
    "papermill": {
     "duration": 0.005034,
     "end_time": "2025-07-20T04:48:04.870838",
     "exception": false,
     "start_time": "2025-07-20T04:48:04.865804",
     "status": "completed"
    },
    "tags": []
   },
   "source": [
    "## Introduction"
   ]
  },
  {
   "cell_type": "markdown",
   "id": "2e15f4ee",
   "metadata": {
    "papermill": {
     "duration": 0.004957,
     "end_time": "2025-07-20T04:48:04.880911",
     "exception": false,
     "start_time": "2025-07-20T04:48:04.875954",
     "status": "completed"
    },
    "tags": []
   },
   "source": [
    "**In this project, we leverage the power of SQL for Exploratory Data Analysis (EDA) using pandasql, allowing us to query and analyze Reddit data directly. Instead of relying solely on Python libraries like Pandas, we use SQL to filter, aggregate, and rank posts and authors — transforming raw data into meaningful insights.**\n",
    "\n",
    "\n",
    "**This dataset contains a couple of fields with the information based on Reddit post submission**"
   ]
  },
  {
   "cell_type": "markdown",
   "id": "8f86b954",
   "metadata": {
    "papermill": {
     "duration": 0.004927,
     "end_time": "2025-07-20T04:48:04.890918",
     "exception": false,
     "start_time": "2025-07-20T04:48:04.885991",
     "status": "completed"
    },
    "tags": []
   },
   "source": [
    "## Data Loading and Module Setup"
   ]
  },
  {
   "cell_type": "code",
   "execution_count": 1,
   "id": "6001b49e",
   "metadata": {
    "_cell_guid": "b1076dfc-b9ad-4769-8c92-a6c4dae69d19",
    "_uuid": "8f2839f25d086af736a60e9eeb907d3b93b6e0e5",
    "execution": {
     "iopub.execute_input": "2025-07-20T04:48:04.902522Z",
     "iopub.status.busy": "2025-07-20T04:48:04.902144Z",
     "iopub.status.idle": "2025-07-20T04:48:06.481992Z",
     "shell.execute_reply": "2025-07-20T04:48:06.480633Z"
    },
    "papermill": {
     "duration": 1.588147,
     "end_time": "2025-07-20T04:48:06.484138",
     "exception": false,
     "start_time": "2025-07-20T04:48:04.895991",
     "status": "completed"
    },
    "tags": []
   },
   "outputs": [
    {
     "name": "stdout",
     "output_type": "stream",
     "text": [
      "/kaggle/input/dataisbeautiful/r_dataisbeautiful_posts.csv\n"
     ]
    }
   ],
   "source": [
    "# This Python 3 environment comes with many helpful analytics libraries installed\n",
    "# It is defined by the kaggle/python Docker image: https://github.com/kaggle/docker-python\n",
    "# For example, here's several helpful packages to load\n",
    "\n",
    "import pandas as pd # data processing, CSV file I/O (e.g. pd.read_csv)import seaborn as sns #statist graph package\n",
    "import pandasql as ps\n",
    "\n",
    "# Input data files are available in the read-only \"../input/\" directory\n",
    "# For example, running this (by clicking run or pressing Shift+Enter) will list all files under the input directory\n",
    "\n",
    "import os\n",
    "for dirname, _, filenames in os.walk('/kaggle/input'):\n",
    "    for filename in filenames:\n",
    "        print(os.path.join(dirname, filename))\n",
    "\n",
    "# You can write up to 20GB to the current directory (/kaggle/working/) that gets preserved as output when you create a version using \"Save & Run All\" \n",
    "# You can also write temporary files to /kaggle/temp/, but they won't be saved outside of the current session"
   ]
  },
  {
   "cell_type": "code",
   "execution_count": 2,
   "id": "d6a21878",
   "metadata": {
    "execution": {
     "iopub.execute_input": "2025-07-20T04:48:06.496915Z",
     "iopub.status.busy": "2025-07-20T04:48:06.496422Z",
     "iopub.status.idle": "2025-07-20T04:48:08.312983Z",
     "shell.execute_reply": "2025-07-20T04:48:08.311961Z"
    },
    "papermill": {
     "duration": 1.825114,
     "end_time": "2025-07-20T04:48:08.314960",
     "exception": false,
     "start_time": "2025-07-20T04:48:06.489846",
     "status": "completed"
    },
    "tags": []
   },
   "outputs": [
    {
     "name": "stderr",
     "output_type": "stream",
     "text": [
      "<ipython-input-2-d1333f55545a>:1: DtypeWarning: Columns (5,7) have mixed types. Specify dtype option on import or set low_memory=False.\n",
      "  df = pd.read_csv(\"/kaggle/input/dataisbeautiful/r_dataisbeautiful_posts.csv\")\n"
     ]
    }
   ],
   "source": [
    "df = pd.read_csv(\"/kaggle/input/dataisbeautiful/r_dataisbeautiful_posts.csv\")"
   ]
  },
  {
   "cell_type": "code",
   "execution_count": 3,
   "id": "7858034a",
   "metadata": {
    "execution": {
     "iopub.execute_input": "2025-07-20T04:48:08.336819Z",
     "iopub.status.busy": "2025-07-20T04:48:08.336464Z",
     "iopub.status.idle": "2025-07-20T04:48:14.664573Z",
     "shell.execute_reply": "2025-07-20T04:48:14.663237Z"
    },
    "papermill": {
     "duration": 6.341075,
     "end_time": "2025-07-20T04:48:14.666401",
     "exception": false,
     "start_time": "2025-07-20T04:48:08.325326",
     "status": "completed"
    },
    "tags": []
   },
   "outputs": [
    {
     "name": "stdout",
     "output_type": "stream",
     "text": [
      "   total_rows\n",
      "0      190853\n",
      "       id                                              title  score  \\\n",
      "0  ll1p9h  Wordcloud of trending video titles on YouTube ...      1   \n",
      "1  ll1o4h  Wordcloud of trending videos on YouTube in the...      1   \n",
      "2  ll15gx  Immunization in India. Source: https://niti.go...      1   \n",
      "3  ll0iup  How to quickly estimate the impact of players ...      1   \n",
      "4  ll0g9a  How to quickly estimate the impact of players ...      1   \n",
      "\n",
      "                 author author_flair_text        removed_by  \\\n",
      "0             OmarZiada             OC: 1              None   \n",
      "1             OmarZiada             OC: 1         moderator   \n",
      "2  Professional_Napper_              None         moderator   \n",
      "3              Viziball              None  automod_filtered   \n",
      "4              Viziball              None         moderator   \n",
      "\n",
      "   total_awards_received awarders  created_utc  \\\n",
      "0                    0.0       []   1613473961   \n",
      "1                    0.0       []   1613473829   \n",
      "2                    0.0       []   1613471541   \n",
      "3                    0.0       []   1613468624   \n",
      "4                    0.0       []   1613468281   \n",
      "\n",
      "                                           full_link  num_comments  over_18  \n",
      "0  https://www.reddit.com/r/dataisbeautiful/comme...             0        0  \n",
      "1  https://www.reddit.com/r/dataisbeautiful/comme...             1        0  \n",
      "2  https://www.reddit.com/r/dataisbeautiful/comme...             1        0  \n",
      "3  https://www.reddit.com/r/dataisbeautiful/comme...             0        0  \n",
      "4  https://www.reddit.com/r/dataisbeautiful/comme...             2        0  \n"
     ]
    }
   ],
   "source": [
    "q = \"\"\"SELECT COUNT(*) total_rows FROM df\"\"\"\n",
    "\n",
    "print(ps.sqldf(q, locals()))\n",
    "\n",
    "q = \"\"\"SELECT * \n",
    "FROM df\n",
    "LIMIT 5;\n",
    "\"\"\"\n",
    "print(ps.sqldf(q, locals()))"
   ]
  },
  {
   "cell_type": "markdown",
   "id": "aabb4a3f",
   "metadata": {
    "papermill": {
     "duration": 0.005448,
     "end_time": "2025-07-20T04:48:14.677671",
     "exception": false,
     "start_time": "2025-07-20T04:48:14.672223",
     "status": "completed"
    },
    "tags": []
   },
   "source": [
    "## Post Analysis"
   ]
  },
  {
   "cell_type": "markdown",
   "id": "2b63899f",
   "metadata": {
    "papermill": {
     "duration": 0.005257,
     "end_time": "2025-07-20T04:48:14.688420",
     "exception": false,
     "start_time": "2025-07-20T04:48:14.683163",
     "status": "completed"
    },
    "tags": []
   },
   "source": [
    "### Most Discussed Posts"
   ]
  },
  {
   "cell_type": "code",
   "execution_count": 4,
   "id": "c926bfe4",
   "metadata": {
    "execution": {
     "iopub.execute_input": "2025-07-20T04:48:14.700831Z",
     "iopub.status.busy": "2025-07-20T04:48:14.700512Z",
     "iopub.status.idle": "2025-07-20T04:48:17.747384Z",
     "shell.execute_reply": "2025-07-20T04:48:17.746156Z"
    },
    "papermill": {
     "duration": 3.05507,
     "end_time": "2025-07-20T04:48:17.749036",
     "exception": false,
     "start_time": "2025-07-20T04:48:14.693966",
     "status": "completed"
    },
    "tags": []
   },
   "outputs": [
    {
     "name": "stdout",
     "output_type": "stream",
     "text": [
      "                                               title  num_comments  \\\n",
      "0                                           data_irl         18801   \n",
      "1  The best (&amp; worst) countries for raising a...         12508   \n",
      "2            Police killing rates in G7 members [OC]         10425   \n",
      "3  [oc] How taboo and popular are sexual fetishes...         10396   \n",
      "4  Worst Episode Ever? The Most Commonly Rated Sh...          9217   \n",
      "\n",
      "           author                                          full_link  \n",
      "0      mungoflago  https://www.reddit.com/r/dataisbeautiful/comme...  \n",
      "1  asherfergusson  https://www.reddit.com/r/dataisbeautiful/comme...  \n",
      "2            Udzu  https://www.reddit.com/r/dataisbeautiful/comme...  \n",
      "3       AellaGirl  https://www.reddit.com/r/dataisbeautiful/comme...  \n",
      "4      BoMcCready  https://www.reddit.com/r/dataisbeautiful/comme...  \n"
     ]
    }
   ],
   "source": [
    "q = \"\"\" SELECT title, num_comments, author, full_link FROM df ORDER BY 2 DESC LIMIT 5;\n",
    "\"\"\"\n",
    "print(ps.sqldf(q, locals()))"
   ]
  },
  {
   "cell_type": "markdown",
   "id": "cc28c127",
   "metadata": {
    "papermill": {
     "duration": 0.005343,
     "end_time": "2025-07-20T04:48:17.760177",
     "exception": false,
     "start_time": "2025-07-20T04:48:17.754834",
     "status": "completed"
    },
    "tags": []
   },
   "source": [
    "### The Most Upvoted Posts"
   ]
  },
  {
   "cell_type": "code",
   "execution_count": 5,
   "id": "c168ac5c",
   "metadata": {
    "execution": {
     "iopub.execute_input": "2025-07-20T04:48:17.772603Z",
     "iopub.status.busy": "2025-07-20T04:48:17.772210Z",
     "iopub.status.idle": "2025-07-20T04:48:20.773214Z",
     "shell.execute_reply": "2025-07-20T04:48:20.771968Z"
    },
    "papermill": {
     "duration": 3.009164,
     "end_time": "2025-07-20T04:48:20.774999",
     "exception": false,
     "start_time": "2025-07-20T04:48:17.765835",
     "status": "completed"
    },
    "tags": []
   },
   "outputs": [
    {
     "name": "stdout",
     "output_type": "stream",
     "text": [
      "                                               title   score           author  \\\n",
      "0  Imagine having to pay money to share your data...  116226   MOSTEPICPLAYER   \n",
      "1  Let's hear it for the lurkers! The vast majori...  105255        TrueBirch   \n",
      "2  Cause of Death - Reality vs. Google vs. Media ...  101451       aaronpenne   \n",
      "3  Gaze and foot placement when walking over roug...   99611  sandusky_hohoho   \n",
      "4                  Light Speed – fast, but slow [OC]   92686         physicsJ   \n",
      "\n",
      "                                           full_link  \n",
      "0  https://www.reddit.com/r/dataisbeautiful/comme...  \n",
      "1  https://www.reddit.com/r/dataisbeautiful/comme...  \n",
      "2  https://www.reddit.com/r/dataisbeautiful/comme...  \n",
      "3  https://www.reddit.com/r/dataisbeautiful/comme...  \n",
      "4  https://www.reddit.com/r/dataisbeautiful/comme...  \n"
     ]
    }
   ],
   "source": [
    "q = \"\"\" SELECT title, score, author,full_link FROM df ORDER BY 2 DESC LIMIT 5;\n",
    "\"\"\"\n",
    "print(ps.sqldf(q, locals()))"
   ]
  },
  {
   "cell_type": "markdown",
   "id": "1a47787a",
   "metadata": {
    "papermill": {
     "duration": 0.005438,
     "end_time": "2025-07-20T04:48:20.786532",
     "exception": false,
     "start_time": "2025-07-20T04:48:20.781094",
     "status": "completed"
    },
    "tags": []
   },
   "source": [
    "### by Reddit Rank \n",
    "\n",
    "The Reddit rank formula is calculated using the following formula:\n",
    "\n",
    "$$\n",
    "\\text{Reddit Rank} = \\frac{\\text{score}}{\\max(\\text{score})}  + \\frac{\\text{comments}}{\\max(\\text{comments})}\n",
    "$$\n"
   ]
  },
  {
   "cell_type": "code",
   "execution_count": 6,
   "id": "f71469ac",
   "metadata": {
    "execution": {
     "iopub.execute_input": "2025-07-20T04:48:20.799160Z",
     "iopub.status.busy": "2025-07-20T04:48:20.798848Z",
     "iopub.status.idle": "2025-07-20T04:48:23.912027Z",
     "shell.execute_reply": "2025-07-20T04:48:23.910877Z"
    },
    "papermill": {
     "duration": 3.121537,
     "end_time": "2025-07-20T04:48:23.913885",
     "exception": false,
     "start_time": "2025-07-20T04:48:20.792348",
     "status": "completed"
    },
    "tags": []
   },
   "outputs": [
    {
     "name": "stdout",
     "output_type": "stream",
     "text": [
      "                                               title          author  \\\n",
      "0                                           data_irl      mungoflago   \n",
      "1  Let's hear it for the lurkers! The vast majori...       TrueBirch   \n",
      "2  Imagine having to pay money to share your data...  MOSTEPICPLAYER   \n",
      "3  Area of land burnt in Australia and area of sm...       neilrkaye   \n",
      "4  Cause of Death - Reality vs. Google vs. Media ...      aaronpenne   \n",
      "\n",
      "                                           full_link  RedditRank  \n",
      "0  https://www.reddit.com/r/dataisbeautiful/comme...    1.445442  \n",
      "1  https://www.reddit.com/r/dataisbeautiful/comme...    1.176549  \n",
      "2  https://www.reddit.com/r/dataisbeautiful/comme...    1.055901  \n",
      "3  https://www.reddit.com/r/dataisbeautiful/comme...    1.041973  \n",
      "4  https://www.reddit.com/r/dataisbeautiful/comme...    1.027922  \n"
     ]
    }
   ],
   "source": [
    "q = \"\"\"\n",
    "SELECT title, author, full_link,\n",
    "       ((1.0 * score / ((SELECT MAX(score) FROM df))) + \n",
    "        (1.0 * num_comments / ((SELECT MAX(num_comments) FROM df)))) AS RedditRank\n",
    "FROM df\n",
    "ORDER BY RedditRank DESC\n",
    "LIMIT 5;\n",
    "\"\"\"\n",
    "\n",
    "print(ps.sqldf(q, locals()))"
   ]
  },
  {
   "cell_type": "markdown",
   "id": "33f32899",
   "metadata": {
    "papermill": {
     "duration": 0.00589,
     "end_time": "2025-07-20T04:48:23.926058",
     "exception": false,
     "start_time": "2025-07-20T04:48:23.920168",
     "status": "completed"
    },
    "tags": []
   },
   "source": [
    "### Counts Split by Content Maturity"
   ]
  },
  {
   "cell_type": "code",
   "execution_count": 7,
   "id": "a140a75a",
   "metadata": {
    "execution": {
     "iopub.execute_input": "2025-07-20T04:48:23.939019Z",
     "iopub.status.busy": "2025-07-20T04:48:23.938696Z",
     "iopub.status.idle": "2025-07-20T04:48:26.949378Z",
     "shell.execute_reply": "2025-07-20T04:48:26.948277Z"
    },
    "papermill": {
     "duration": 3.019216,
     "end_time": "2025-07-20T04:48:26.951127",
     "exception": false,
     "start_time": "2025-07-20T04:48:23.931911",
     "status": "completed"
    },
    "tags": []
   },
   "outputs": [
    {
     "name": "stdout",
     "output_type": "stream",
     "text": [
      "      category   count\n",
      "0  Not Over 18  189785\n",
      "1      Over 18    1068\n"
     ]
    }
   ],
   "source": [
    "q = \"\"\"\n",
    "SELECT 'Not Over 18' AS category, COUNT(*) AS count\n",
    "FROM df\n",
    "WHERE over_18 = 0\n",
    "\n",
    "UNION\n",
    "\n",
    "SELECT 'Over 18' AS category, COUNT(*) AS count\n",
    "FROM df\n",
    "WHERE over_18 = 1;\n",
    "\"\"\"\n",
    "\n",
    "print(ps.sqldf(q, locals()))\n"
   ]
  },
  {
   "cell_type": "markdown",
   "id": "6d27f1a7",
   "metadata": {
    "papermill": {
     "duration": 0.005633,
     "end_time": "2025-07-20T04:48:26.963010",
     "exception": false,
     "start_time": "2025-07-20T04:48:26.957377",
     "status": "completed"
    },
    "tags": []
   },
   "source": [
    "### Post Trends Over Time "
   ]
  },
  {
   "cell_type": "code",
   "execution_count": 8,
   "id": "e7ee3689",
   "metadata": {
    "execution": {
     "iopub.execute_input": "2025-07-20T04:48:26.976043Z",
     "iopub.status.busy": "2025-07-20T04:48:26.975696Z",
     "iopub.status.idle": "2025-07-20T04:48:30.265485Z",
     "shell.execute_reply": "2025-07-20T04:48:30.264323Z"
    },
    "papermill": {
     "duration": 3.298214,
     "end_time": "2025-07-20T04:48:30.267135",
     "exception": false,
     "start_time": "2025-07-20T04:48:26.968921",
     "status": "completed"
    },
    "tags": []
   },
   "outputs": [
    {
     "name": "stdout",
     "output_type": "stream",
     "text": [
      "   year  num of posts\n",
      "0  2012          1965\n",
      "1  2013          6198\n",
      "2  2014         16857\n",
      "3  2015         12169\n",
      "4  2016         28342\n",
      "5  2017         26615\n",
      "6  2018         24068\n",
      "7  2019         28163\n",
      "8  2020         43391\n",
      "9  2021          3085\n"
     ]
    }
   ],
   "source": [
    "q = \"\"\"\n",
    "SELECT \n",
    "    STRFTIME('%Y', DATETIME(created_utc, 'unixepoch')) AS year, COUNT(id) [num of posts]\n",
    "FROM df\n",
    "GROUP BY year\n",
    "\"\"\"\n",
    "\n",
    "print(ps.sqldf(q, locals()))"
   ]
  },
  {
   "cell_type": "markdown",
   "id": "4118e1e1",
   "metadata": {
    "papermill": {
     "duration": 0.005647,
     "end_time": "2025-07-20T04:48:30.279000",
     "exception": false,
     "start_time": "2025-07-20T04:48:30.273353",
     "status": "completed"
    },
    "tags": []
   },
   "source": [
    "**Note: Data is based on collected Reddit posts, not a full archive of all posts per year.**"
   ]
  },
  {
   "cell_type": "markdown",
   "id": "30e70218",
   "metadata": {
    "papermill": {
     "duration": 0.005739,
     "end_time": "2025-07-20T04:48:30.290655",
     "exception": false,
     "start_time": "2025-07-20T04:48:30.284916",
     "status": "completed"
    },
    "tags": []
   },
   "source": [
    "## Author Analysis"
   ]
  },
  {
   "cell_type": "markdown",
   "id": "a0975609",
   "metadata": {
    "papermill": {
     "duration": 0.005514,
     "end_time": "2025-07-20T04:48:30.302155",
     "exception": false,
     "start_time": "2025-07-20T04:48:30.296641",
     "status": "completed"
    },
    "tags": []
   },
   "source": [
    "### Most Problematic Authors by Deleted Posts"
   ]
  },
  {
   "cell_type": "code",
   "execution_count": 9,
   "id": "ce6acfa4",
   "metadata": {
    "execution": {
     "iopub.execute_input": "2025-07-20T04:48:30.315000Z",
     "iopub.status.busy": "2025-07-20T04:48:30.314682Z",
     "iopub.status.idle": "2025-07-20T04:48:33.319802Z",
     "shell.execute_reply": "2025-07-20T04:48:33.318679Z"
    },
    "papermill": {
     "duration": 3.01319,
     "end_time": "2025-07-20T04:48:33.321160",
     "exception": false,
     "start_time": "2025-07-20T04:48:30.307970",
     "status": "completed"
    },
    "tags": []
   },
   "outputs": [
    {
     "name": "stdout",
     "output_type": "stream",
     "text": [
      "         removed_by  num_removed\n",
      "0         moderator        14789\n",
      "1           deleted         2948\n",
      "2  automod_filtered         1553\n",
      "3            reddit         1453\n",
      "4            author            1\n"
     ]
    }
   ],
   "source": [
    "q = \"\"\"SELECT removed_by, count(distinct id) num_removed FROM df \n",
    "WHERE removed_by is not null \n",
    "GROUP BY removed_by \n",
    "ORDER BY 2 desc \"\"\"\n",
    "\n",
    "print(ps.sqldf(q, locals()))"
   ]
  },
  {
   "cell_type": "code",
   "execution_count": 10,
   "id": "e19e4e87",
   "metadata": {
    "execution": {
     "iopub.execute_input": "2025-07-20T04:48:33.334446Z",
     "iopub.status.busy": "2025-07-20T04:48:33.334079Z",
     "iopub.status.idle": "2025-07-20T04:48:39.380584Z",
     "shell.execute_reply": "2025-07-20T04:48:39.379401Z"
    },
    "papermill": {
     "duration": 6.05502,
     "end_time": "2025-07-20T04:48:39.382515",
     "exception": false,
     "start_time": "2025-07-20T04:48:33.327495",
     "status": "completed"
    },
    "tags": []
   },
   "outputs": [
    {
     "name": "stdout",
     "output_type": "stream",
     "text": [
      "                 author  num_removed\n",
      "0          hornedviper9           71\n",
      "1        peter_mladenov           35\n",
      "2           ad55mul1994           20\n",
      "3         Ashrafkamarad           20\n",
      "4           Bilal078692           18\n",
      "5              RushHell           17\n",
      "6        Ilovedataworld           17\n",
      "7                kesu11           15\n",
      "8  PreferenceCreative64           15\n",
      "9            Prostowned           14\n",
      "\n",
      "    the mean of removed posts is\n",
      "0                      1.344332\n"
     ]
    }
   ],
   "source": [
    "q = \"\"\"SELECT author, count(id) num_removed FROM df \n",
    "WHERE removed_by = 'moderator' \n",
    "GROUP BY author \n",
    "ORDER BY 2 desc \n",
    "LIMIT 10\"\"\"\n",
    "print(ps.sqldf(q, locals()))\n",
    "\n",
    "q = \"\"\"SELECT AVG(num_removed) [the mean of removed posts is] FROM (SELECT author, count(id) num_removed FROM df \n",
    "WHERE removed_by = 'moderator' \n",
    "GROUP BY author \n",
    "ORDER BY 2 desc) \"\"\"\n",
    "print(\"\\n\",ps.sqldf(q, locals()))"
   ]
  },
  {
   "cell_type": "markdown",
   "id": "459ba705",
   "metadata": {
    "papermill": {
     "duration": 0.005933,
     "end_time": "2025-07-20T04:48:39.394898",
     "exception": false,
     "start_time": "2025-07-20T04:48:39.388965",
     "status": "completed"
    },
    "tags": []
   },
   "source": [
    "### Top Authors by Post Count"
   ]
  },
  {
   "cell_type": "code",
   "execution_count": 11,
   "id": "e22711b4",
   "metadata": {
    "execution": {
     "iopub.execute_input": "2025-07-20T04:48:39.408218Z",
     "iopub.status.busy": "2025-07-20T04:48:39.407887Z",
     "iopub.status.idle": "2025-07-20T04:48:45.645605Z",
     "shell.execute_reply": "2025-07-20T04:48:45.644510Z"
    },
    "papermill": {
     "duration": 6.246418,
     "end_time": "2025-07-20T04:48:45.647373",
     "exception": false,
     "start_time": "2025-07-20T04:48:39.400955",
     "status": "completed"
    },
    "tags": []
   },
   "outputs": [
    {
     "name": "stdout",
     "output_type": "stream",
     "text": [
      "       author  num of posts\n",
      "0   [deleted]         26849\n",
      "1   jimrosenz          1744\n",
      "2  OverflowDs           446\n",
      "3  caobanlong           314\n",
      "4      pdwp90           300\n",
      "\n",
      "\n",
      "    Average Posts per Author\n",
      "0                  2.306771\n"
     ]
    }
   ],
   "source": [
    "q = \"\"\" \n",
    "SELECT author, COUNT(id) [num of posts]\n",
    "FROM df\n",
    "GROUP BY author\n",
    "ORDER BY 2 DESC \n",
    "LIMIT 5;\n",
    "\"\"\"\n",
    "print(ps.sqldf(q, locals()))\n",
    "\n",
    "q = \"\"\" \n",
    "SELECT AVG([num of posts]) [Average Posts per Author]\n",
    "FROM (\n",
    "    SELECT author, COUNT(id) [num of posts]\n",
    "    FROM df\n",
    "    GROUP BY author\n",
    ") AS post_counts\n",
    "\"\"\"\n",
    "print('\\n\\n', ps.sqldf(q, locals()))"
   ]
  },
  {
   "cell_type": "markdown",
   "id": "1d6bbf8a",
   "metadata": {
    "papermill": {
     "duration": 0.006036,
     "end_time": "2025-07-20T04:48:45.659860",
     "exception": false,
     "start_time": "2025-07-20T04:48:45.653824",
     "status": "completed"
    },
    "tags": []
   },
   "source": [
    "### Top Scoring Authors"
   ]
  },
  {
   "cell_type": "code",
   "execution_count": 12,
   "id": "32ec314d",
   "metadata": {
    "execution": {
     "iopub.execute_input": "2025-07-20T04:48:45.673110Z",
     "iopub.status.busy": "2025-07-20T04:48:45.672807Z",
     "iopub.status.idle": "2025-07-20T04:48:51.942530Z",
     "shell.execute_reply": "2025-07-20T04:48:51.941479Z"
    },
    "papermill": {
     "duration": 6.278211,
     "end_time": "2025-07-20T04:48:51.944136",
     "exception": false,
     "start_time": "2025-07-20T04:48:45.665925",
     "status": "completed"
    },
    "tags": []
   },
   "outputs": [
    {
     "name": "stdout",
     "output_type": "stream",
     "text": [
      "               author  total score\n",
      "0           [deleted]       537231\n",
      "1              chartr       502180\n",
      "2           neilrkaye       461362\n",
      "3           datashown       430771\n",
      "4  theimpossiblesalad       356430\n",
      "\n",
      "\n",
      "    Average Total Score\n",
      "0            406.02896\n"
     ]
    }
   ],
   "source": [
    "q = \"\"\" \n",
    "SELECT author, SUM(score) [total score]\n",
    "FROM df\n",
    "GROUP BY author\n",
    "ORDER BY [total score] DESC\n",
    "LIMIT 5;\n",
    "\"\"\"\n",
    "print(ps.sqldf(q, locals()))\n",
    "\n",
    "q = \"\"\" \n",
    "SELECT AVG([total score]) [Average Total Score]\n",
    "FROM (\n",
    "    SELECT author, SUM(score) AS [total score]\n",
    "    FROM df\n",
    "    GROUP BY author\n",
    ") AS score_counts\n",
    "\"\"\"\n",
    "print('\\n\\n', ps.sqldf(q, locals()))"
   ]
  },
  {
   "cell_type": "markdown",
   "id": "2f7b81fe",
   "metadata": {
    "papermill": {
     "duration": 0.006017,
     "end_time": "2025-07-20T04:48:51.956726",
     "exception": false,
     "start_time": "2025-07-20T04:48:51.950709",
     "status": "completed"
    },
    "tags": []
   },
   "source": [
    "### Top Authors by Post Quality"
   ]
  },
  {
   "cell_type": "code",
   "execution_count": 13,
   "id": "2cb251c7",
   "metadata": {
    "execution": {
     "iopub.execute_input": "2025-07-20T04:48:51.970720Z",
     "iopub.status.busy": "2025-07-20T04:48:51.970389Z",
     "iopub.status.idle": "2025-07-20T04:48:55.359610Z",
     "shell.execute_reply": "2025-07-20T04:48:55.358533Z"
    },
    "papermill": {
     "duration": 3.398109,
     "end_time": "2025-07-20T04:48:55.361125",
     "exception": false,
     "start_time": "2025-07-20T04:48:51.963016",
     "status": "completed"
    },
    "tags": []
   },
   "outputs": [
    {
     "name": "stdout",
     "output_type": "stream",
     "text": [
      "                author  AVG(RedditRank)\n",
      "0       MOSTEPICPLAYER         1.055901\n",
      "1          dinoignacio         0.770102\n",
      "2   Critical_Thinking_         0.634042\n",
      "3      necromanticfitz         0.630542\n",
      "4  BobNelsonsBoyfriend         0.610395\n"
     ]
    }
   ],
   "source": [
    "q = \"\"\"\n",
    "SELECT author, AVG(RedditRank) \n",
    "FROM (SELECT title, author,\n",
    "       ((1.0 * score / ((SELECT MAX(score) FROM df))) + \n",
    "        (1.0 * num_comments / ((SELECT MAX(num_comments) FROM df)))) AS RedditRank FROM df ORDER BY RedditRank DESC)\n",
    "GROUP BY author\n",
    "ORDER BY AVG(RedditRank) DESC\n",
    "LIMIT 5\n",
    "\"\"\"\n",
    "\n",
    "print(ps.sqldf(q, locals()))"
   ]
  },
  {
   "cell_type": "markdown",
   "id": "27c70b80",
   "metadata": {
    "papermill": {
     "duration": 0.006102,
     "end_time": "2025-07-20T04:48:55.373686",
     "exception": false,
     "start_time": "2025-07-20T04:48:55.367584",
     "status": "completed"
    },
    "tags": []
   },
   "source": [
    "### Top Authors by Total Awards Received"
   ]
  },
  {
   "cell_type": "code",
   "execution_count": 14,
   "id": "8641817e",
   "metadata": {
    "execution": {
     "iopub.execute_input": "2025-07-20T04:48:55.387454Z",
     "iopub.status.busy": "2025-07-20T04:48:55.387053Z",
     "iopub.status.idle": "2025-07-20T04:49:01.799816Z",
     "shell.execute_reply": "2025-07-20T04:49:01.798759Z"
    },
    "papermill": {
     "duration": 6.421214,
     "end_time": "2025-07-20T04:49:01.801239",
     "exception": false,
     "start_time": "2025-07-20T04:48:55.380025",
     "status": "completed"
    },
    "tags": []
   },
   "outputs": [
    {
     "name": "stdout",
     "output_type": "stream",
     "text": [
      "              author  Total Awards\n",
      "0             chartr          93.0\n",
      "1  already-taken-wtf          55.0\n",
      "2     getToTheChopin          54.0\n",
      "3   Master4pprentice          40.0\n",
      "4  whereAreTheShares          35.0\n",
      "\n",
      "\n",
      "    Average Total Awards\n",
      "0              0.027764\n"
     ]
    }
   ],
   "source": [
    "q = \"\"\" \n",
    "SELECT author, SUM(total_awards_received) AS [Total Awards]\n",
    "FROM df\n",
    "GROUP BY author\n",
    "ORDER BY [Total Awards] DESC\n",
    "LIMIT 5;\n",
    "\"\"\"\n",
    "print(ps.sqldf(q, locals()))\n",
    "\n",
    "q = \"\"\" \n",
    "SELECT AVG([Total Awards]) AS [Average Total Awards]\n",
    "FROM (\n",
    "    SELECT author, SUM(total_awards_received) AS [Total Awards]\n",
    "    FROM df\n",
    "    GROUP BY author\n",
    ") AS award_counts\n",
    "\"\"\"\n",
    "print('\\n\\n', ps.sqldf(q, locals()))"
   ]
  }
 ],
 "metadata": {
  "kaggle": {
   "accelerator": "none",
   "dataSources": [
    {
     "datasetId": 553222,
     "sourceId": 1948416,
     "sourceType": "datasetVersion"
    }
   ],
   "dockerImageVersionId": 30918,
   "isGpuEnabled": false,
   "isInternetEnabled": false,
   "language": "python",
   "sourceType": "notebook"
  },
  "kernelspec": {
   "display_name": "Python 3",
   "language": "python",
   "name": "python3"
  },
  "language_info": {
   "codemirror_mode": {
    "name": "ipython",
    "version": 3
   },
   "file_extension": ".py",
   "mimetype": "text/x-python",
   "name": "python",
   "nbconvert_exporter": "python",
   "pygments_lexer": "ipython3",
   "version": "3.10.12"
  },
  "papermill": {
   "default_parameters": {},
   "duration": 60.795377,
   "end_time": "2025-07-20T04:49:02.426712",
   "environment_variables": {},
   "exception": null,
   "input_path": "__notebook__.ipynb",
   "output_path": "__notebook__.ipynb",
   "parameters": {},
   "start_time": "2025-07-20T04:48:01.631335",
   "version": "2.6.0"
  }
 },
 "nbformat": 4,
 "nbformat_minor": 5
}
